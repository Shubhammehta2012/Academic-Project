{
 "cells": [
  {
   "cell_type": "code",
   "execution_count": 80,
   "metadata": {},
   "outputs": [
    {
     "name": "stdout",
     "output_type": "stream",
     "text": [
      "Accuracy=  43.5456527004\n"
     ]
    }
   ],
   "source": [
    "import json\n",
    "import pandas as pd\n",
    "import numpy as np\n",
    "from sklearn.cross_validation import train_test_split\n",
    "import numpy as np\n",
    "from sklearn.feature_extraction.text import CountVectorizer\n",
    "\n",
    "\n",
    "df = pd.read_json(\"IMDB.json\", lines= True)\n",
    "columns = df.columns.tolist()\n",
    "\n",
    "df1 = df.iloc[:,0:2]\n",
    "df2 = df.iloc[:,3:4]\n",
    "df3 = df.iloc[:,6:10]\n",
    "\n",
    "\n",
    "frames = [df1, df2, df3]\n",
    "X = pd.concat([df1, df2, df3], axis=1, join_axes=[df1.index])\n",
    "y = df.iloc[:,4:5]\n",
    "X = X.values.tolist()\n",
    "#print(X[0])\n",
    "\n",
    "y = np.ravel(y)\n",
    "\n",
    "X_train, X_test, y_train, y_test = train_test_split(X, y, test_size=.2, random_state =190)\n",
    "\n",
    "\n",
    "ix = []\n",
    "for i in X_train:\n",
    "    x = \"\"\n",
    "    for j in i:\n",
    "        x += str(j)  \n",
    "        x += \" \"\n",
    "    ix.append(x)\n",
    "    \n",
    "#print(ix[0])\n",
    "    \n",
    "ix_test = []\n",
    "for i in X_test:\n",
    "    x = \"\"\n",
    "    for j in i:\n",
    "        x += str(j)  \n",
    "        x += \" \"\n",
    "    ix_test.append(x)\n",
    "\n",
    "remove = ['a','the', 'The', 'A', '.', ',', 'of', 'is', '&', 'in', 'to', ':']\n",
    "count_vect = CountVectorizer(analyzer = 'word', stop_words = remove, ngram_range=(1,2) )\n",
    "\n",
    "X_trains_count = count_vect.fit_transform(ix)\n",
    "X_test_count = count_vect.transform(ix_test)\n",
    "\n",
    "\n",
    "from sklearn.linear_model import LogisticRegression\n",
    "LRL2 = LogisticRegression(penalty = 'l2')\n",
    "LRL2.fit(X_trains_count,y_train)\n",
    "\n",
    "L2score = LRL2.score(X_test_count,y_test)\n",
    "print (\"Accuracy= \", L2score*100)\n"
   ]
  },
  {
   "cell_type": "code",
   "execution_count": null,
   "metadata": {
    "collapsed": true
   },
   "outputs": [],
   "source": []
  }
 ],
 "metadata": {
  "kernelspec": {
   "display_name": "Python 3",
   "language": "python",
   "name": "python3"
  },
  "language_info": {
   "codemirror_mode": {
    "name": "ipython",
    "version": 3
   },
   "file_extension": ".py",
   "mimetype": "text/x-python",
   "name": "python",
   "nbconvert_exporter": "python",
   "pygments_lexer": "ipython3",
   "version": "3.6.2"
  }
 },
 "nbformat": 4,
 "nbformat_minor": 2
}
