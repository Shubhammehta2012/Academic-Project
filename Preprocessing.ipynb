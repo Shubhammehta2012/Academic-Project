{
 "cells": [
  {
   "cell_type": "code",
   "execution_count": 1,
   "metadata": {
    "collapsed": true
   },
   "outputs": [],
   "source": [
    "import requests\n",
    "import bs4\n",
    "import re\n",
    "\n",
    "def filterCountry(tag):\n",
    "    if tag is None:\n",
    "        return False\n",
    "    q = re.compile(\"country_of_origin\")\n",
    "    m = q.search(tag)\n",
    "    if m:\n",
    "        return True\n",
    "    return False\n",
    "\n",
    "def findCountry(key):\n",
    "    res=requests.get('http://www.imdb.com/title/' + key + '/')\n",
    "    res.raise_for_status()\n",
    "    soup=bs4.BeautifulSoup(res.text,\"lxml\")\n",
    "    result=soup.select('#titleDetails')\n",
    "    if result:\n",
    "        c = result[0].find_all(href=filterCountry)\n",
    "        strs = result[0].stripped_strings\n",
    "        grab = False\n",
    "        date = None\n",
    "        for str in strs:\n",
    "            if grab:\n",
    "                date = str\n",
    "                break\n",
    "\n",
    "            if(\"Release Date:\" == str):\n",
    "                grab = True\n",
    "        if c==None:\n",
    "            return None,date\n",
    "        else:\n",
    "            return c[0].getText(), date\n"
   ]
  },
  {
   "cell_type": "code",
   "execution_count": 2,
   "metadata": {
    "collapsed": true
   },
   "outputs": [],
   "source": [
    "class Test(object):\n",
    "    def __init__(self,data):\n",
    "         self.__dict__=json.loads(data)\n",
    "    def myprint(self):\n",
    "         for key,value in self.__dict__.items():\n",
    "            print(key,value)\n",
    "    def get(self,key):\n",
    "        if key in self.__dict__.keys():\n",
    "            return self.__dict__[key]\n",
    "        return None\n",
    "    def put(self, key, value):\n",
    "        self.__dict__[key] = value\n",
    "    def toJSON(self):\n",
    "        return json.dumps(self.__dict__)"
   ]
  },
  {
   "cell_type": "code",
   "execution_count": 17,
   "metadata": {
    "scrolled": true
   },
   "outputs": [
    {
     "name": "stdout",
     "output_type": "stream",
     "text": [
      "run\n",
      "All done\n"
     ]
    }
   ],
   "source": [
    "import json\n",
    "import os\n",
    "\n",
    "def find_between( s, first, last ):\n",
    "    try:\n",
    "        start = s.index( first ) + len( first )\n",
    "        end = s.index( last, start )\n",
    "        return s[start:end]\n",
    "    except ValueError:\n",
    "        return \"\"\n",
    "\n",
    
    "with open('IMDB.json','r', encoding='utf8')as f:\n",
    "    movies=[Test(line) for line in f]\n",
    "print(\"run\")\n",
    "\n",
    "with open('output_partai_1.json', 'w', 1) as f:   \n",
    "    for movie in movies:\n",
    "        country = movie.get('country')\n",
    "        year = movie.get(\"year\")\n",
    "        if(((country is None) or ('fficial' in country)) and (year >= 1960)):\n",
    "            key = movie.get('imdb')\n",
    "            try:\n",
    "                country, date = findCountry(key)\n",
    "            except requests.exceptions.RequestException as e:  # This is the correct syntax\n",
    "                print (e)\n",
    "                break\n",
    "            except Exception as e:\n",
    "                print(e)\n",
    "                break\n",
    "            \n",
    "            if date:\n",
    "                coun = find_between(date,'(',')')\n",
    "                #print(coun)\n",
    "            \n",
    "            if coun == 'USA':\n",
    "                if(country is not None):\n",
    "                    movie.put('country', country)\n",
    "                    #print(country)\n",
    "                if(date is not None):\n",
    "                    movie.put('releasedate', date)\n",
    "  \n",
    "                js = movie.toJSON()\n",
    "                f.write(js + '\\n')\n",
    "print(\"All done\")"
   ]
  },
  {
   "cell_type": "code",
   "execution_count": null,
   "metadata": {
    "collapsed": true
   },
   "outputs": [],
   "source": []
  }
 ],
 "metadata": {
  "kernelspec": {
   "display_name": "Python 3",
   "language": "python",
   "name": "python3"
  },
  "language_info": {
   "codemirror_mode": {
    "name": "ipython",
    "version": 3
   },
   "file_extension": ".py",
   "mimetype": "text/x-python",
   "name": "python",
   "nbconvert_exporter": "python",
   "pygments_lexer": "ipython3",
   "version": "3.6.1"
  }
 },
 "nbformat": 4,
 "nbformat_minor": 2
}
